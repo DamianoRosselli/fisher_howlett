{
 "cells": [
  {
   "cell_type": "code",
   "execution_count": 1,
   "metadata": {},
   "outputs": [],
   "source": [
    "import sys \n",
    "import pandas as pd\n",
    "import numpy as np\n",
    "import matplotlib.pyplot as plt\n",
    "sys.path.append('/home/rosselli/fisher_howlett/')\n",
    "from fisher import fisher_class as fc\n",
    "from fisher import utils as ut\n",
    "\n",
    "#parameter file with the info for the forecast, check params.yml for description\n",
    "param_file = '../example_files/params.yml'\n",
    "\n"
   ]
  },
  {
   "cell_type": "code",
   "execution_count": 2,
   "metadata": {},
   "outputs": [
    {
     "name": "stdout",
     "output_type": "stream",
     "text": [
      "Evaluating the Fisher Matrix for 10 bins between [z_min = 0.0, z_max = 0.5]\n"
     ]
    },
    {
     "name": "stderr",
     "output_type": "stream",
     "text": [
      "  0%|          | 0/10 [00:00<?, ?it/s]"
     ]
    },
    {
     "name": "stdout",
     "output_type": "stream",
     "text": [
      "Evaluating the Fisher Matrix for [k_min = 0.021230715149842275, k_max = 0.2] and [z_min = 0.0, z_max = 0.05]\n"
     ]
    },
    {
     "name": "stderr",
     "output_type": "stream",
     "text": [
      " 10%|█         | 1/10 [00:28<04:16, 28.52s/it]"
     ]
    },
    {
     "name": "stdout",
     "output_type": "stream",
     "text": [
      "Fisher Matrix \n",
      " ====================== \n",
      "\n",
      "[ 7930.42879708 -8059.02151607    47.79653836] \n",
      "\n",
      "[-8059.02151607  8271.44517742   -53.57317973] \n",
      "\n",
      "[ 47.79653836 -53.57317973   0.68860132] \n",
      "\n",
      " ====================== \n",
      "\n",
      "Effective redshift z_eff = 0.03739405946602345\n",
      "beta(z_eff) \t percentage error(z_eff)\n",
      "0.400979 \t 53.557477\n",
      "fsigma8(z_eff) \t percentage error(z_eff)\n",
      "0.438276 \t 51.951980\n",
      "sigma_g \t percentage error\n",
      "4.240000 \t 76.718155\n",
      "sigma_u \t percentage error\n",
      "13.000000 \t 25.021921\n",
      "Evaluating the Fisher Matrix for [k_min = 0.010745578885933008, k_max = 0.2] and [z_min = 0.05, z_max = 0.1]\n"
     ]
    },
    {
     "name": "stderr",
     "output_type": "stream",
     "text": [
      " 20%|██        | 2/10 [00:52<03:27, 25.97s/it]"
     ]
    },
    {
     "name": "stdout",
     "output_type": "stream",
     "text": [
      "Fisher Matrix \n",
      " ====================== \n",
      "\n",
      "[ 50650.50526006 -51564.25267041    311.33293385] \n",
      "\n",
      "[-51564.25267041  53037.27432846   -350.27159786] \n",
      "\n",
      "[ 311.33293385 -350.27159786    4.59540929] \n",
      "\n",
      " ====================== \n",
      "\n",
      "Effective redshift z_eff = 0.08014207292432711\n",
      "beta(z_eff) \t percentage error(z_eff)\n",
      "0.409375 \t 20.322448\n",
      "fsigma8(z_eff) \t percentage error(z_eff)\n",
      "0.447453 \t 19.696511\n",
      "sigma_g \t percentage error\n",
      "4.240000 \t 29.571836\n",
      "sigma_u \t percentage error\n",
      "13.000000 \t 9.644968\n",
      "Evaluating the Fisher Matrix for [k_min = 0.007253768252586117, k_max = 0.2] and [z_min = 0.1, z_max = 0.15]\n"
     ]
    },
    {
     "name": "stderr",
     "output_type": "stream",
     "text": [
      " 30%|███       | 3/10 [01:17<02:56, 25.28s/it]"
     ]
    },
    {
     "name": "stdout",
     "output_type": "stream",
     "text": [
      "Fisher Matrix \n",
      " ====================== \n",
      "\n",
      "[ 124368.12259982 -126833.82585477     779.17608947] \n",
      "\n",
      "[-126833.82585477  130730.72776046    -879.77573709] \n",
      "\n",
      "[ 779.17608947 -879.77573709   11.76206225] \n",
      "\n",
      " ====================== \n",
      "\n",
      "Effective redshift z_eff = 0.12804335943924916\n",
      "beta(z_eff) \t percentage error(z_eff)\n",
      "0.417266 \t 12.491536\n",
      "fsigma8(z_eff) \t percentage error(z_eff)\n",
      "0.456078 \t 12.097712\n",
      "sigma_g \t percentage error\n",
      "4.240000 \t 18.444678\n",
      "sigma_u \t percentage error\n",
      "13.000000 \t 6.015803\n",
      "Evaluating the Fisher Matrix for [k_min = 0.005510166460968095, k_max = 0.2] and [z_min = 0.15, z_max = 0.2]\n"
     ]
    },
    {
     "name": "stderr",
     "output_type": "stream",
     "text": [
      " 40%|████      | 4/10 [01:42<02:32, 25.40s/it]"
     ]
    },
    {
     "name": "stdout",
     "output_type": "stream",
     "text": [
      "Fisher Matrix \n",
      " ====================== \n",
      "\n",
      "[ 220933.58181865 -225635.13786008    1405.92565056] \n",
      "\n",
      "[-225635.13786008  232965.79355527   -1592.11190612] \n",
      "\n",
      "[ 1405.92565056 -1592.11190612    21.61498824] \n",
      "\n",
      " ====================== \n",
      "\n",
      "Effective redshift z_eff = 0.17710480918707644\n",
      "beta(z_eff) \t percentage error(z_eff)\n",
      "0.423773 \t 9.095274\n",
      "fsigma8(z_eff) \t percentage error(z_eff)\n",
      "0.463191 \t 8.803297\n",
      "sigma_g \t percentage error\n",
      "4.240000 \t 13.588121\n",
      "sigma_u \t percentage error\n",
      "13.000000 \t 4.431818\n",
      "Evaluating the Fisher Matrix for [k_min = 0.004465747589198563, k_max = 0.2] and [z_min = 0.2, z_max = 0.25]\n"
     ]
    },
    {
     "name": "stderr",
     "output_type": "stream",
     "text": [
      " 50%|█████     | 5/10 [02:08<02:08, 25.63s/it]"
     ]
    },
    {
     "name": "stdout",
     "output_type": "stream",
     "text": [
      "Fisher Matrix \n",
      " ====================== \n",
      "\n",
      "[ 333282.87785626 -340773.85418778    2146.45594679] \n",
      "\n",
      "[-340773.85418778  352337.55810646   -2436.38924338] \n",
      "\n",
      "[ 2146.45594679 -2436.38924338    33.46595792] \n",
      "\n",
      " ====================== \n",
      "\n",
      "Effective redshift z_eff = 0.22658572103853303\n",
      "beta(z_eff) \t percentage error(z_eff)\n",
      "0.428831 \t 7.230055\n",
      "fsigma8(z_eff) \t percentage error(z_eff)\n",
      "0.468719 \t 6.994223\n",
      "sigma_g \t percentage error\n",
      "4.240000 \t 10.901027\n",
      "sigma_u \t percentage error\n",
      "13.000000 \t 3.555412\n",
      "Evaluating the Fisher Matrix for [k_min = 0.0037708355696927745, k_max = 0.2] and [z_min = 0.25, z_max = 0.3]\n"
     ]
    },
    {
     "name": "stderr",
     "output_type": "stream",
     "text": [
      " 60%|██████    | 6/10 [02:34<01:42, 25.74s/it]"
     ]
    },
    {
     "name": "stdout",
     "output_type": "stream",
     "text": [
      "Fisher Matrix \n",
      " ====================== \n",
      "\n",
      "[ 454830.03864814 -465506.33427823    2954.6871875 ] \n",
      "\n",
      "[-465506.33427823  481856.2353204    -3359.83669001] \n",
      "\n",
      "[ 2954.6871875  -3359.83669001    46.53097383] \n",
      "\n",
      " ====================== \n",
      "\n",
      "Effective redshift z_eff = 0.27623110491498015\n",
      "beta(z_eff) \t percentage error(z_eff)\n",
      "0.432503 \t 6.072117\n",
      "fsigma8(z_eff) \t percentage error(z_eff)\n",
      "0.472733 \t 5.870963\n",
      "sigma_g \t percentage error\n",
      "4.240000 \t 9.219495\n",
      "sigma_u \t percentage error\n",
      "13.000000 \t 3.006974\n",
      "Evaluating the Fisher Matrix for [k_min = 0.003275569595692925, k_max = 0.2] and [z_min = 0.3, z_max = 0.35]\n"
     ]
    },
    {
     "name": "stderr",
     "output_type": "stream",
     "text": [
      " 70%|███████   | 7/10 [03:00<01:16, 25.66s/it]"
     ]
    },
    {
     "name": "stdout",
     "output_type": "stream",
     "text": [
      "Fisher Matrix \n",
      " ====================== \n",
      "\n",
      "[ 583376.30083199 -597505.6598373     3811.14193248] \n",
      "\n",
      "[-597505.6598373   619018.05508991   -4339.17324843] \n",
      "\n",
      "[ 3811.14193248 -4339.17324843    60.40722417] \n",
      "\n",
      " ====================== \n",
      "\n",
      "Effective redshift z_eff = 0.3259898432942916\n",
      "beta(z_eff) \t percentage error(z_eff)\n",
      "0.434901 \t 5.288473\n",
      "fsigma8(z_eff) \t percentage error(z_eff)\n",
      "0.475354 \t 5.110993\n",
      "sigma_g \t percentage error\n",
      "4.240000 \t 8.068576\n",
      "sigma_u \t percentage error\n",
      "13.000000 \t 2.631597\n",
      "Evaluating the Fisher Matrix for [k_min = 0.002905020325657503, k_max = 0.2] and [z_min = 0.35, z_max = 0.4]\n"
     ]
    },
    {
     "name": "stderr",
     "output_type": "stream",
     "text": [
      " 80%|████████  | 8/10 [03:27<00:52, 26.20s/it]"
     ]
    },
    {
     "name": "stdout",
     "output_type": "stream",
     "text": [
      "Fisher Matrix \n",
      " ====================== \n",
      "\n",
      "[ 706498.00958265 -724114.4642104     4628.66056318] \n",
      "\n",
      "[-724114.4642104   750772.1995984    -5274.83140335] \n",
      "\n",
      "[ 4628.66056318 -5274.83140335    73.59212264] \n",
      "\n",
      " ====================== \n",
      "\n",
      "Effective redshift z_eff = 0.3757807775164316\n",
      "beta(z_eff) \t percentage error(z_eff)\n",
      "0.436141 \t 4.749217\n",
      "fsigma8(z_eff) \t percentage error(z_eff)\n",
      "0.476710 \t 4.587124\n",
      "sigma_g \t percentage error\n",
      "4.240000 \t 7.271925\n",
      "sigma_u \t percentage error\n",
      "13.000000 \t 2.371766\n",
      "Evaluating the Fisher Matrix for [k_min = 0.0026175618235239045, k_max = 0.2] and [z_min = 0.4, z_max = 0.45]\n"
     ]
    },
    {
     "name": "stderr",
     "output_type": "stream",
     "text": [
      " 90%|█████████ | 9/10 [03:53<00:26, 26.13s/it]"
     ]
    },
    {
     "name": "stdout",
     "output_type": "stream",
     "text": [
      "Fisher Matrix \n",
      " ====================== \n",
      "\n",
      "[ 792377.2240579  -813019.42612264    5191.09060865] \n",
      "\n",
      "[-813019.42612264  843934.30671913   -5921.60213238] \n",
      "\n",
      "[ 5191.09060865 -5921.60213238    82.50154236] \n",
      "\n",
      " ====================== \n",
      "\n",
      "Effective redshift z_eff = 0.4255013231154968\n",
      "beta(z_eff) \t percentage error(z_eff)\n",
      "0.436346 \t 4.411282\n",
      "fsigma8(z_eff) \t percentage error(z_eff)\n",
      "0.476934 \t 4.255539\n",
      "sigma_g \t percentage error\n",
      "4.240000 \t 6.782232\n",
      "sigma_u \t percentage error\n",
      "13.000000 \t 2.212051\n",
      "Evaluating the Fisher Matrix for [k_min = 0.002388220227094578, k_max = 0.2] and [z_min = 0.45, z_max = 0.5]\n"
     ]
    },
    {
     "name": "stderr",
     "output_type": "stream",
     "text": [
      "100%|██████████| 10/10 [04:21<00:00, 26.14s/it]"
     ]
    },
    {
     "name": "stdout",
     "output_type": "stream",
     "text": [
      "Fisher Matrix \n",
      " ====================== \n",
      "\n",
      "[ 802340.0326817  -824765.47266865    5234.26165621] \n",
      "\n",
      "[-824765.47266865  857795.46490171   -5979.08038278] \n",
      "\n",
      "[ 5234.26165621 -5979.08038278    82.80746709] \n",
      "\n",
      " ====================== \n",
      "\n",
      "Effective redshift z_eff = 0.47520343193815007\n",
      "beta(z_eff) \t percentage error(z_eff)\n",
      "0.435638 \t 4.266463\n",
      "fsigma8(z_eff) \t percentage error(z_eff)\n",
      "0.476160 \t 4.106098\n",
      "sigma_g \t percentage error\n",
      "4.240000 \t 6.603047\n",
      "sigma_u \t percentage error\n",
      "13.000000 \t 2.153609\n",
      "Evaluation of the Fisher Matrix for 10 bins between [z_min = 0.0, z_max = 0.5] is COMPLETE!!\n"
     ]
    },
    {
     "name": "stderr",
     "output_type": "stream",
     "text": [
      "\n"
     ]
    }
   ],
   "source": [
    "#initialize the class and run the forecast in redshift bins as defined in the param_file\n",
    "# for the moment verbose = False in param_file put True if you want the code to print a lot of stuff\n",
    "c = fc.Fisher(param_file)\n",
    "c.compute_fisher_zbin()\n"
   ]
  },
  {
   "cell_type": "code",
   "execution_count": 3,
   "metadata": {},
   "outputs": [
    {
     "data": {
      "text/plain": [
       "{0: {'zbin': [0.0, 0.05],\n",
       "  'zeff': 0.03739405946602345,\n",
       "  'beta_eff': 0.4009788331340625,\n",
       "  'beta_eff_err': 0.21475414677859234,\n",
       "  'fs8_eff': 0.43827639306159527,\n",
       "  'fs8_eff_err': 0.22769326315165267,\n",
       "  'sigma_g': 4.24,\n",
       "  'sigma_g_err': 3.2528497622544164,\n",
       "  'sigma_u': 13.0,\n",
       "  'sigma_u_err': 3.2528497622544164},\n",
       " 1: {'zbin': [0.05, 0.1],\n",
       "  'zeff': 0.08014207292432711,\n",
       "  'beta_eff': 0.40937452471429003,\n",
       "  'beta_eff_err': 0.08319492377517786,\n",
       "  'fs8_eff': 0.44745302065133513,\n",
       "  'fs8_eff_err': 0.08813263457285817,\n",
       "  'sigma_g': 4.24,\n",
       "  'sigma_g_err': 1.2538458673826347,\n",
       "  'sigma_u': 13.0,\n",
       "  'sigma_u_err': 1.2538458673826347},\n",
       " 2: {'zbin': [0.1, 0.15],\n",
       "  'zeff': 0.12804335943924916,\n",
       "  'beta_eff': 0.41726555934942905,\n",
       "  'beta_eff_err': 0.05212287761686469,\n",
       "  'fs8_eff': 0.45607804998363555,\n",
       "  'fs8_eff_err': 0.055175007661228,\n",
       "  'sigma_g': 4.24,\n",
       "  'sigma_g_err': 0.7820543468519875,\n",
       "  'sigma_u': 13.0,\n",
       "  'sigma_u_err': 0.7820543468519875},\n",
       " 3: {'zbin': [0.15, 0.2],\n",
       "  'zeff': 0.17710480918707644,\n",
       "  'beta_eff': 0.42377334323654875,\n",
       "  'beta_eff_err': 0.03854334676984244,\n",
       "  'fs8_eff': 0.46319116372726693,\n",
       "  'fs8_eff_err': 0.04077609164886804,\n",
       "  'sigma_g': 4.24,\n",
       "  'sigma_g_err': 0.5761363209947551,\n",
       "  'sigma_u': 13.0,\n",
       "  'sigma_u_err': 0.5761363209947551},\n",
       " 4: {'zbin': [0.2, 0.25],\n",
       "  'zeff': 0.22658572103853303,\n",
       "  'beta_eff': 0.4288305226082293,\n",
       "  'beta_eff_err': 0.031004684715692957,\n",
       "  'fs8_eff': 0.46871874311783435,\n",
       "  'fs8_eff_err': 0.032783235675340534,\n",
       "  'sigma_g': 4.24,\n",
       "  'sigma_g_err': 0.4622035376769851,\n",
       "  'sigma_u': 13.0,\n",
       "  'sigma_u_err': 0.4622035376769851},\n",
       " 5: {'zbin': [0.25, 0.3],\n",
       "  'zeff': 0.27623110491498015,\n",
       "  'beta_eff': 0.43250337155632884,\n",
       "  'beta_eff_err': 0.026262111577347886,\n",
       "  'fs8_eff': 0.4727332268167656,\n",
       "  'fs8_eff_err': 0.027753994964854017,\n",
       "  'sigma_g': 4.24,\n",
       "  'sigma_g_err': 0.39090659431332603,\n",
       "  'sigma_u': 13.0,\n",
       "  'sigma_u_err': 0.39090659431332603},\n",
       " 6: {'zbin': [0.3, 0.35],\n",
       "  'zeff': 0.3259898432942916,\n",
       "  'beta_eff': 0.43490138443824444,\n",
       "  'beta_eff_err': 0.02299964043413585,\n",
       "  'fs8_eff': 0.4753542939394031,\n",
       "  'fs8_eff_err': 0.0242953225610707,\n",
       "  'sigma_g': 4.24,\n",
       "  'sigma_g_err': 0.34210762659532507,\n",
       "  'sigma_u': 13.0,\n",
       "  'sigma_u_err': 0.34210762659532507},\n",
       " 7: {'zbin': [0.35, 0.4],\n",
       "  'zeff': 0.3757807775164316,\n",
       "  'beta_eff': 0.4361414739243088,\n",
       "  'beta_eff_err': 0.02071330549790956,\n",
       "  'fs8_eff': 0.4767097319379075,\n",
       "  'fs8_eff_err': 0.021867268355918793,\n",
       "  'sigma_g': 4.24,\n",
       "  'sigma_g_err': 0.30832964110651184,\n",
       "  'sigma_u': 13.0,\n",
       "  'sigma_u_err': 0.30832964110651184},\n",
       " 8: {'zbin': [0.4, 0.45],\n",
       "  'zeff': 0.4255013231154968,\n",
       "  'beta_eff': 0.4363464065347494,\n",
       "  'beta_eff_err': 0.019248468816364137,\n",
       "  'fs8_eff': 0.47693372661768296,\n",
       "  'fs8_eff_err': 0.020296100727071064,\n",
       "  'sigma_g': 4.24,\n",
       "  'sigma_g_err': 0.2875666386441935,\n",
       "  'sigma_u': 13.0,\n",
       "  'sigma_u_err': 0.2875666386441935},\n",
       " 9: {'zbin': [0.45, 0.5],\n",
       "  'zeff': 0.47520343193815007,\n",
       "  'beta_eff': 0.435638223278406,\n",
       "  'beta_eff_err': 0.01858634382119189,\n",
       "  'fs8_eff': 0.47615967078837435,\n",
       "  'fs8_eff_err': 0.019551582502410934,\n",
       "  'sigma_g': 4.24,\n",
       "  'sigma_g_err': 0.27996919809448606,\n",
       "  'sigma_u': 13.0,\n",
       "  'sigma_u_err': 0.27996919809448606}}"
      ]
     },
     "execution_count": 3,
     "metadata": {},
     "output_type": "execute_result"
    }
   ],
   "source": [
    "#all the result of the forecast are save in a dictionary\n",
    "c.data"
   ]
  },
  {
   "cell_type": "code",
   "execution_count": 4,
   "metadata": {},
   "outputs": [
    {
     "data": {
      "text/plain": [
       "array([[[ 7.93042880e+03, -8.05902152e+03,  4.77965384e+01],\n",
       "        [-8.05902152e+03,  8.27144518e+03, -5.35731797e+01],\n",
       "        [ 4.77965384e+01, -5.35731797e+01,  6.88601323e-01]],\n",
       "\n",
       "       [[ 5.06505053e+04, -5.15642527e+04,  3.11332934e+02],\n",
       "        [-5.15642527e+04,  5.30372743e+04, -3.50271598e+02],\n",
       "        [ 3.11332934e+02, -3.50271598e+02,  4.59540929e+00]],\n",
       "\n",
       "       [[ 1.24368123e+05, -1.26833826e+05,  7.79176089e+02],\n",
       "        [-1.26833826e+05,  1.30730728e+05, -8.79775737e+02],\n",
       "        [ 7.79176089e+02, -8.79775737e+02,  1.17620623e+01]],\n",
       "\n",
       "       [[ 2.20933582e+05, -2.25635138e+05,  1.40592565e+03],\n",
       "        [-2.25635138e+05,  2.32965794e+05, -1.59211191e+03],\n",
       "        [ 1.40592565e+03, -1.59211191e+03,  2.16149882e+01]],\n",
       "\n",
       "       [[ 3.33282878e+05, -3.40773854e+05,  2.14645595e+03],\n",
       "        [-3.40773854e+05,  3.52337558e+05, -2.43638924e+03],\n",
       "        [ 2.14645595e+03, -2.43638924e+03,  3.34659579e+01]],\n",
       "\n",
       "       [[ 4.54830039e+05, -4.65506334e+05,  2.95468719e+03],\n",
       "        [-4.65506334e+05,  4.81856235e+05, -3.35983669e+03],\n",
       "        [ 2.95468719e+03, -3.35983669e+03,  4.65309738e+01]],\n",
       "\n",
       "       [[ 5.83376301e+05, -5.97505660e+05,  3.81114193e+03],\n",
       "        [-5.97505660e+05,  6.19018055e+05, -4.33917325e+03],\n",
       "        [ 3.81114193e+03, -4.33917325e+03,  6.04072242e+01]],\n",
       "\n",
       "       [[ 7.06498010e+05, -7.24114464e+05,  4.62866056e+03],\n",
       "        [-7.24114464e+05,  7.50772200e+05, -5.27483140e+03],\n",
       "        [ 4.62866056e+03, -5.27483140e+03,  7.35921226e+01]],\n",
       "\n",
       "       [[ 7.92377224e+05, -8.13019426e+05,  5.19109061e+03],\n",
       "        [-8.13019426e+05,  8.43934307e+05, -5.92160213e+03],\n",
       "        [ 5.19109061e+03, -5.92160213e+03,  8.25015424e+01]],\n",
       "\n",
       "       [[ 8.02340033e+05, -8.24765473e+05,  5.23426166e+03],\n",
       "        [-8.24765473e+05,  8.57795465e+05, -5.97908038e+03],\n",
       "        [ 5.23426166e+03, -5.97908038e+03,  8.28074671e+01]]])"
      ]
     },
     "execution_count": 4,
     "metadata": {},
     "output_type": "execute_result"
    }
   ],
   "source": [
    "#here are saved all the Fisher matrix for each redshift bin\n",
    "c.Fisher_zbin"
   ]
  },
  {
   "cell_type": "code",
   "execution_count": 5,
   "metadata": {},
   "outputs": [
    {
     "name": "stdout",
     "output_type": "stream",
     "text": [
      "Evaluating the Fisher Matrix between [z_min = 0.0, z_max = 0.5]\n",
      "Fisher Matrix \n",
      " ====================== \n",
      "\n",
      "[ 4076587.12213424 -4177777.44920632    26510.52910706] \n",
      "\n",
      "[-4177777.44920632  4330719.06055762   -30186.64552114] \n",
      "\n",
      "[ 26510.52910706 -30186.64552114    417.96634912] \n",
      "\n",
      " ====================== \n",
      "\n",
      "Effective redshift z_eff = 0.3585957498352305\n",
      "beta(z_eff) \t percentage error(z_eff)\n",
      "0.435837 \t 1.972704\n",
      "fsigma8(z_eff) \t percentage error(z_eff)\n",
      "0.476377 \t 1.904674\n",
      "sigma_g \t percentage error\n",
      "4.240000 \t 3.030252\n",
      "sigma_u \t percentage error\n",
      "13.000000 \t 0.988328\n"
     ]
    }
   ],
   "source": [
    "#compute Fisher forecast for the whole redshift range\n",
    "c.compute_fisher_tot()\n",
    "\n",
    "#result save in c.data_tot\n",
    "#Fisher matrix save in c.Fisher_tot"
   ]
  },
  {
   "cell_type": "code",
   "execution_count": null,
   "metadata": {},
   "outputs": [],
   "source": []
  }
 ],
 "metadata": {
  "kernelspec": {
   "display_name": "Python 3",
   "language": "python",
   "name": "python3"
  },
  "language_info": {
   "codemirror_mode": {
    "name": "ipython",
    "version": 3
   },
   "file_extension": ".py",
   "mimetype": "text/x-python",
   "name": "python",
   "nbconvert_exporter": "python",
   "pygments_lexer": "ipython3",
   "version": "3.10.12"
  }
 },
 "nbformat": 4,
 "nbformat_minor": 2
}
