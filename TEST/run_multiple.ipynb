{
 "cells": [
  {
   "cell_type": "code",
   "execution_count": 1,
   "metadata": {},
   "outputs": [],
   "source": [
    "import sys \n",
    "import pandas as pd\n",
    "import numpy as np\n",
    "import matplotlib.pyplot as plt\n",
    "sys.path.append('/home/rosselli/fisher_howlett/')\n",
    "from fisher import fisher_class as fc\n",
    "from fisher import utils as ut\n",
    "from fisher import run_fisher as ffc"
   ]
  },
  {
   "cell_type": "code",
   "execution_count": 2,
   "metadata": {},
   "outputs": [],
   "source": [
    "# Define the path to the data and Pvel files \n",
    "path = \"../example_files/\"\n",
    "\n",
    "# Dictionary containing cosmological parameters\n",
    "cosmo_params = {\n",
    "    \n",
    "    'Om_0':0.26479 ,      # Matter density at z=0\n",
    "    'Od_0': 1 - 0.26479 ,  # Dark energy density at z=0\n",
    "    'gammaval': 0.55,    # Value of gamma to use in the forecasts (f(z) = Om(z)^gammaval)\n",
    "    'r_g': 1.0,          # Cross-correlation coefficient between the velocity and density fields\n",
    "    'beta_0': 0.393,     # Value of beta at z=0 (will be modified by redshift-dependent bias and f)\n",
    "    'sigma_8_0': 0.8, # Value of sigma8 at z=0\n",
    "    'sigma_u': 15.00,    # Velocity damping parameter in Mpc/h (value from Jun Koda's paper)\n",
    "    'sigma_g': 4.24,     # Density damping parameter in Mpc/h (value from Jun Koda's paper)\n",
    "    'k_max': 0.2,        # Maximum k to evaluate for dd, dv, and vv correlations \n",
    "                         #(typical values are 0.1 - 0.2), on smaller scales models are likely to break down.\n",
    "    'w0':-1,             # dark energy EOS parameters from w(a) = w0 + wa(1+a)\n",
    "    'wa': 0\n",
    "}\n",
    "\n",
    "# Dictionary containing error parameters\n",
    "errors = {'rand': 300.0, \n",
    "          'dist': 0.07}\n",
    "# 'rand' = The observational error due to random non-linear velocities \n",
    "# (I normally use 300km/s as in Jun Koda's paper).\n",
    "# 'dist' = The percentage error on the distance indicator \n",
    "#(Typically 0.05 - 0.10 for SNe IA, 0.2 or more for Tully-Fisher or Fundamental Plane).\n",
    "\n",
    "# Boolean flag for output verbosity on terminal\n",
    "verbosity = False\n",
    "\n",
    "# Redshift range of interest + number of bins(+1)\n",
    "zrange = [0.,0.5,11]\n",
    "\n",
    "# File path containing the velocity divergence power spectrum\n",
    "Pvel_file =path + \"example_pk.pickle\"\n",
    "\n",
    "common_params = [zrange, cosmo_params, errors, verbosity, Pvel_file]\n",
    "\n",
    "# Density only \n",
    "flags_d = [0, 1, 3]\n",
    "\n",
    "# Velocity only \n",
    "flags_v = [1, 4]\n",
    "\n",
    "# Combined \n",
    "flags_dv = [0, 1, 3, 4]"
   ]
  },
  {
   "cell_type": "code",
   "execution_count": 3,
   "metadata": {},
   "outputs": [],
   "source": [
    "# List of datasets including velocity tracers (SPECTRO-TYPED) density and galaxy density.\n",
    "nz_files_desi_ztf_spectro = [path + \"example_nbar_vel.dat\", \n",
    "                             path + \"example_nbar_red.dat\"]\n",
    "\n",
    "# Unit conversion factor for densities (to maintain precision)\n",
    "density_units_desi_ztf_spectro = [1,1]\n",
    "\n",
    "# Density only ----------------------------------------------------------------------\n",
    "desi_ztf_area_d = [2, 0, 0]\n",
    "\n",
    "desi_ztf_spectro_density_params = [nz_files_desi_ztf_spectro, \n",
    "                                    density_units_desi_ztf_spectro,\n",
    "                                    desi_ztf_area_d,\n",
    "                                    flags_d]\n",
    "\n",
    "params_d_desi_ztf_spectro = ffc.create_params_dict(*common_params,*desi_ztf_spectro_density_params)\n",
    "\n",
    "# Velocity only ----------------------------------------------------------------------\n",
    "desi_ztf_area_v = [0, 2, 0]\n",
    "\n",
    "desi_ztf_spectro_velocity_params = [nz_files_desi_ztf_spectro, \n",
    "                                    density_units_desi_ztf_spectro,\n",
    "                                    desi_ztf_area_v,\n",
    "                                    flags_v]\n",
    "\n",
    "params_v_desi_ztf_spectro = ffc.create_params_dict(*common_params,*desi_ztf_spectro_velocity_params)\n",
    "\n",
    "# Combined ----------------------------------------------------------------------\n",
    "desi_ztf_area_dv = [0, 1., 2]\n",
    "\n",
    "desi_ztf_spectro_combined_params = [nz_files_desi_ztf_spectro, \n",
    "                                    density_units_desi_ztf_spectro,\n",
    "                                    desi_ztf_area_dv,\n",
    "                                    flags_dv]\n",
    "\n",
    "params_dv_desi_ztf_spectro = ffc.create_params_dict(*common_params,*desi_ztf_spectro_combined_params)"
   ]
  },
  {
   "cell_type": "code",
   "execution_count": 4,
   "metadata": {},
   "outputs": [
    {
     "name": "stdout",
     "output_type": "stream",
     "text": [
      "# ============================================================================= \n",
      "    desi_ztf_spectro forecast \n",
      "# =============================================================================\n",
      "\n"
     ]
    },
    {
     "ename": "NameError",
     "evalue": "name 'read_power_spectra_files' is not defined",
     "output_type": "error",
     "traceback": [
      "\u001b[0;31m---------------------------------------------------------------------------\u001b[0m",
      "\u001b[0;31mNameError\u001b[0m                                 Traceback (most recent call last)",
      "Cell \u001b[0;32mIn[4], line 10\u001b[0m\n\u001b[1;32m      7\u001b[0m ffc_name \u001b[38;5;241m=\u001b[39m \u001b[38;5;124m'\u001b[39m\u001b[38;5;124mall_forecasts\u001b[39m\u001b[38;5;124m'\u001b[39m\n\u001b[1;32m      8\u001b[0m ffc_dir \u001b[38;5;241m=\u001b[39m path\n\u001b[0;32m---> 10\u001b[0m forecasts \u001b[38;5;241m=\u001b[39m \u001b[43mffc\u001b[49m\u001b[38;5;241;43m.\u001b[39;49m\u001b[43mrun_forecasts\u001b[49m\u001b[43m(\u001b[49m\u001b[43mconfigs\u001b[49m\u001b[43m,\u001b[49m\u001b[43m  \u001b[49m\u001b[38;5;66;43;03m# dictionnary with all wanted configurations of parameters\u001b[39;49;00m\n\u001b[1;32m     11\u001b[0m \u001b[43m                              \u001b[49m\u001b[43mpath\u001b[49m\u001b[43m,\u001b[49m\u001b[43m     \u001b[49m\u001b[38;5;66;43;03m# path of wanted dictionary to save results\u001b[39;49;00m\n\u001b[1;32m     12\u001b[0m \u001b[43m                              \u001b[49m\u001b[38;5;66;43;03m#ffc_dir,  # name of directory to save results (is created if does not exists)\u001b[39;49;00m\n\u001b[1;32m     13\u001b[0m \u001b[43m                              \u001b[49m\u001b[43mffc_name\u001b[49m\u001b[43m,\u001b[49m\u001b[43m \u001b[49m\u001b[38;5;66;43;03m# name of pickle file with saved results\u001b[39;49;00m\n\u001b[1;32m     14\u001b[0m \u001b[43m                              \u001b[49m\u001b[43mffc_zbin\u001b[49m\u001b[43m \u001b[49m\u001b[38;5;241;43m=\u001b[39;49m\u001b[38;5;28;43;01mTrue\u001b[39;49;00m\u001b[43m,\u001b[49m\u001b[43m  \u001b[49m\u001b[38;5;66;43;03m# if want to compute matrix for each zbin\u001b[39;49;00m\n\u001b[1;32m     15\u001b[0m \u001b[43m                              \u001b[49m\u001b[43mffc_tot\u001b[49m\u001b[43m \u001b[49m\u001b[38;5;241;43m=\u001b[39;49m\u001b[43m \u001b[49m\u001b[38;5;28;43;01mTrue\u001b[39;49;00m\u001b[43m)\u001b[49m  \u001b[38;5;66;03m# if want to compute matrix on all zrange\u001b[39;00m\n",
      "File \u001b[0;32m~/fisher_howlett/fisher/run_fisher.py:156\u001b[0m, in \u001b[0;36mrun_forecasts\u001b[0;34m(configs, path, namefile, ffc_zbin, ffc_tot)\u001b[0m\n\u001b[1;32m    154\u001b[0m \u001b[38;5;66;03m# Iterate over each forecast type for the current survey\u001b[39;00m\n\u001b[1;32m    155\u001b[0m \u001b[38;5;28;01mfor\u001b[39;00m ftype, params \u001b[38;5;129;01min\u001b[39;00m types\u001b[38;5;241m.\u001b[39mitems():\n\u001b[0;32m--> 156\u001b[0m     c \u001b[38;5;241m=\u001b[39m \u001b[43mfcla\u001b[49m\u001b[38;5;241;43m.\u001b[39;49m\u001b[43mFisher\u001b[49m\u001b[43m(\u001b[49m\u001b[43mparams\u001b[49m\u001b[43m)\u001b[49m  \u001b[38;5;66;03m# Initialize the Fisher object with the current parameters\u001b[39;00m\n\u001b[1;32m    158\u001b[0m     \u001b[38;5;28;01mif\u001b[39;00m (ffc_zbin \u001b[38;5;241m==\u001b[39m \u001b[38;5;28;01mTrue\u001b[39;00m) \u001b[38;5;129;01mand\u001b[39;00m (ffc_tot \u001b[38;5;241m==\u001b[39m \u001b[38;5;28;01mFalse\u001b[39;00m) :\n\u001b[1;32m    159\u001b[0m         \u001b[38;5;28mprint\u001b[39m(\u001b[38;5;124m'\u001b[39m\u001b[38;5;130;01m\\n\u001b[39;00m\u001b[38;5;124m• \u001b[39m\u001b[38;5;124m'\u001b[39m, ftype, \u001b[38;5;124m'\u001b[39m\u001b[38;5;124mforecast on redshift bins\u001b[39m\u001b[38;5;130;01m\\n\u001b[39;00m\u001b[38;5;124m'\u001b[39m)\n",
      "File \u001b[0;32m~/fisher_howlett/fisher/fisher_class.py:69\u001b[0m, in \u001b[0;36mFisher.__init__\u001b[0;34m(self, param_dic)\u001b[0m\n\u001b[1;32m     65\u001b[0m         \u001b[38;5;28;01mraise\u001b[39;00m \u001b[38;5;167;01mValueError\u001b[39;00m(\u001b[38;5;124m\"\u001b[39m\u001b[38;5;124mERROR: sigma_u is a free parameter, but there is no information in the velocity field (Fisher matrix will be singular)\u001b[39m\u001b[38;5;124m\"\u001b[39m)\n\u001b[1;32m     68\u001b[0m \u001b[38;5;66;03m# Read power spectra files\u001b[39;00m\n\u001b[0;32m---> 69\u001b[0m \u001b[38;5;28mself\u001b[39m\u001b[38;5;241m.\u001b[39m_Pv, \u001b[38;5;28mself\u001b[39m\u001b[38;5;241m.\u001b[39m_k \u001b[38;5;241m=\u001b[39m \u001b[43mread_power_spectra_files\u001b[49m(\u001b[38;5;28mself\u001b[39m\u001b[38;5;241m.\u001b[39m_config[\u001b[38;5;124m'\u001b[39m\u001b[38;5;124mPvel_file\u001b[39m\u001b[38;5;124m'\u001b[39m])\n\u001b[1;32m     71\u001b[0m \u001b[38;5;66;03m# Check if the maximum k value in the input power spectra is less than the required k_max\u001b[39;00m\n\u001b[1;32m     72\u001b[0m \u001b[38;5;28;01mfor\u001b[39;00m kk \u001b[38;5;129;01min\u001b[39;00m \u001b[38;5;28mself\u001b[39m\u001b[38;5;241m.\u001b[39m_Pv\u001b[38;5;241m.\u001b[39mkeys():\n",
      "\u001b[0;31mNameError\u001b[0m: name 'read_power_spectra_files' is not defined"
     ]
    }
   ],
   "source": [
    "params_desi_ztf_spectro = {'density only'  : params_d_desi_ztf_spectro, \n",
    "                           'velocity only' : params_v_desi_ztf_spectro, \n",
    "                           'combined'      : params_dv_desi_ztf_spectro}\n",
    "\n",
    "configs = {'desi_ztf_spectro' : params_desi_ztf_spectro}\n",
    "\n",
    "ffc_name = 'all_forecasts'\n",
    "ffc_dir = path\n",
    "\n",
    "forecasts = ffc.run_forecasts(configs,  # dictionnary with all wanted configurations of parameters\n",
    "                              path,     # path of wanted dictionary to save results\n",
    "                              #ffc_dir,  # name of directory to save results (is created if does not exists)\n",
    "                              ffc_name, # name of pickle file with saved results\n",
    "                              ffc_zbin =True,  # if want to compute matrix for each zbin\n",
    "                              ffc_tot = True)  # if want to compute matrix on all zrange"
   ]
  },
  {
   "cell_type": "code",
   "execution_count": null,
   "metadata": {},
   "outputs": [],
   "source": []
  }
 ],
 "metadata": {
  "kernelspec": {
   "display_name": "Python 3",
   "language": "python",
   "name": "python3"
  },
  "language_info": {
   "codemirror_mode": {
    "name": "ipython",
    "version": 3
   },
   "file_extension": ".py",
   "mimetype": "text/x-python",
   "name": "python",
   "nbconvert_exporter": "python",
   "pygments_lexer": "ipython3",
   "version": "3.10.12"
  }
 },
 "nbformat": 4,
 "nbformat_minor": 2
}
